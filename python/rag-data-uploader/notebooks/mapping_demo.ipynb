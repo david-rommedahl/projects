{
 "cells": [
  {
   "cell_type": "code",
   "execution_count": 1,
   "metadata": {},
   "outputs": [],
   "source": [
    "from rag_data_uploader.utils.mappings import ES7BaseMapping, OSBaseMapping\n",
    "from typing import Dict"
   ]
  },
  {
   "cell_type": "markdown",
   "metadata": {},
   "source": [
    "## Mappings as Pydantic classes\n",
    "\n",
    "To facilitate easier creation of custom mappings for different vector stores, mappings have been implemented as Pydantic classes. There are a few default mappings that can be used for the use cases that already exist, which can be imported from the `rag_data_loader.utils.mappings` module. To create a custom mapping for one of the existing data stores, the user can inherit from one of the existing mapping base classes. See the following examples.\n",
    "\n"
   ]
  },
  {
   "cell_type": "markdown",
   "metadata": {},
   "source": [
    "#### Creating a custom mapping for Elasticsearch 7\n",
    "\n",
    "To create a custom mapping for Elasticsearch 7, the user can inherit from the class `ES7BaseMapping`. This class only contains a `content` field which is of the type `text`. "
   ]
  },
  {
   "cell_type": "code",
   "execution_count": 2,
   "metadata": {},
   "outputs": [
    {
     "data": {
      "text/plain": [
       "{'properties': {'content': {'type': 'text'}}}"
      ]
     },
     "execution_count": 2,
     "metadata": {},
     "output_type": "execute_result"
    }
   ],
   "source": [
    "ES7BaseMapping().model_dump()"
   ]
  },
  {
   "cell_type": "markdown",
   "metadata": {},
   "source": [
    "#### To create a new mapping with more fields, the user simply inherits from the base class and adds attributes with the desired type. To get a dictionary corresponding to the Elasticsearch 7 mapping, the user simply calls the `model_dump()` method on the new mapping instance."
   ]
  },
  {
   "cell_type": "code",
   "execution_count": 3,
   "metadata": {},
   "outputs": [
    {
     "data": {
      "text/plain": [
       "{'properties': {'content': {'type': 'text'},\n",
       "  'title': {'type': 'keyword'},\n",
       "  'version': {'type': 'float'}}}"
      ]
     },
     "execution_count": 3,
     "metadata": {},
     "output_type": "execute_result"
    }
   ],
   "source": [
    "class ES7CustomMapping(ES7BaseMapping):\n",
    "    title: str = \"keyword\"\n",
    "    version: str = \"float\"\n",
    "\n",
    "custom_mapping = ES7CustomMapping()\n",
    "custom_mapping.model_dump()"
   ]
  },
  {
   "cell_type": "markdown",
   "metadata": {},
   "source": [
    "#### To add an embedding field to the mapping, the user can just add an `int` type attribute named `embedding` with the desired number of dimensions, and the parent class will convert it into the correct format for the given vector store. Note the difference between the embedding mapping for Elasticsearch and Opensearch."
   ]
  },
  {
   "cell_type": "code",
   "execution_count": 4,
   "metadata": {},
   "outputs": [
    {
     "data": {
      "text/plain": [
       "{'properties': {'content': {'type': 'text'},\n",
       "  'embedding': {'type': 'dense_vector', 'dims': 1024}}}"
      ]
     },
     "execution_count": 4,
     "metadata": {},
     "output_type": "execute_result"
    }
   ],
   "source": [
    "# Embeddings that are consistent with Elasticsearch 7\n",
    "class ES7EmbeddingMapping(ES7BaseMapping):\n",
    "    embedding: int = 1024\n",
    "\n",
    "es_embedding_mapping = ES7EmbeddingMapping()\n",
    "es_embedding_mapping.model_dump()"
   ]
  },
  {
   "cell_type": "code",
   "execution_count": 5,
   "metadata": {},
   "outputs": [
    {
     "data": {
      "text/plain": [
       "{'properties': {'content': {'type': 'text'},\n",
       "  'embedding': {'type': 'knn_vector', 'dims': 1024}}}"
      ]
     },
     "execution_count": 5,
     "metadata": {},
     "output_type": "execute_result"
    }
   ],
   "source": [
    "# Embeddings that are consistent with Opensearch\n",
    "class OSEmbeddingMapping(OSBaseMapping):\n",
    "    embedding: int = 1024\n",
    "\n",
    "os_embedding_mapping = OSEmbeddingMapping()\n",
    "os_embedding_mapping.model_dump()"
   ]
  },
  {
   "cell_type": "markdown",
   "metadata": {},
   "source": [
    "#### You can also specify a nested field by supplying a dictionary where the keys are the field names and the values are the types of the fields. So if we want to extend the Elasticsearch embedding maping by defining a field for the mapping called `sections` with keyword subfields `chapter` and `subchapter_1`, that could be done in this way:"
   ]
  },
  {
   "cell_type": "code",
   "execution_count": 6,
   "metadata": {},
   "outputs": [
    {
     "data": {
      "text/plain": [
       "{'properties': {'content': {'type': 'text'},\n",
       "  'embedding': {'type': 'dense_vector', 'dims': 1024},\n",
       "  'sections': {'properties': {'chapter': {'type': 'keyword'},\n",
       "    'subchapter_1': {'type': 'keyword'}}}}}"
      ]
     },
     "execution_count": 6,
     "metadata": {},
     "output_type": "execute_result"
    }
   ],
   "source": [
    "class ES7NestedMapping(ES7EmbeddingMapping):\n",
    "    sections: Dict[str, str] = {\"chapter\": \"keyword\", \"subchapter_1\": \"keyword\"}\n",
    "\n",
    "nested_mapping = ES7NestedMapping()\n",
    "nested_mapping.model_dump()"
   ]
  },
  {
   "cell_type": "markdown",
   "metadata": {},
   "source": [
    "#### Sometimes a user might want to control what type new fields that are added to an index after index creation are mapped to. For instance in the 3GPP mapping new fields with `string` values are mapped to `keyword` fields. To control this, a `template` can be added. This is done by specifying a field called `template` as a dictionary with keys `name`, `match` and `to`. Here, `name` is the name of the dynamic mapping template, `match` is which type of field should be mapped, and `to` is the datatype to map the field to. To show this, we can look at extending the previous mapping, to something similar to the 3GPP mapping which is currently used:"
   ]
  },
  {
   "cell_type": "code",
   "execution_count": 7,
   "metadata": {},
   "outputs": [
    {
     "data": {
      "text/plain": [
       "{'properties': {'content': {'type': 'text'},\n",
       "  'embedding': {'type': 'dense_vector', 'dims': 1024},\n",
       "  'sections': {'properties': {'chapter': {'type': 'keyword'},\n",
       "    'subchapter_1': {'type': 'keyword'}}}},\n",
       " 'dynamic_templates': [{'3gpp_template': {'match_mapping_type': 'string',\n",
       "    'mapping': {'type': 'keyword'}}}]}"
      ]
     },
     "execution_count": 7,
     "metadata": {},
     "output_type": "execute_result"
    }
   ],
   "source": [
    "class ES7Mapping3GPPMinimal(ES7NestedMapping):\n",
    "    template: Dict[str, str] = {\"name\": \"3gpp_template\", \"match\": \"string\", \"to\" : \"keyword\"}\n",
    "\n",
    "mapping_3gpp = ES7Mapping3GPPMinimal()\n",
    "mapping_3gpp.model_dump()\n"
   ]
  },
  {
   "cell_type": "markdown",
   "metadata": {},
   "source": [
    "#### The mapping classes, default or custom specified by the user, are meant to be used with the uploader classes in the rag_data_uploader package. An instance of one of the mapping classes is meant to be sent into either the `upload_from_folder()` or `upload_documents()` methods under the `mapping` key. It is important to remember that what should be passed is a mapping INSTANCE, and not just the class. See below for distinction:"
   ]
  },
  {
   "cell_type": "code",
   "execution_count": 11,
   "metadata": {},
   "outputs": [
    {
     "data": {
      "text/plain": [
       "{\"properties\":{\"content\":{\"type\":\"text\"}}}"
      ]
     },
     "execution_count": 11,
     "metadata": {},
     "output_type": "execute_result"
    }
   ],
   "source": [
    "# Mapping instance, which should be passed to uploader methods\n",
    "mapping = ES7BaseMapping()\n",
    "mapping"
   ]
  },
  {
   "cell_type": "code",
   "execution_count": 12,
   "metadata": {},
   "outputs": [
    {
     "data": {
      "text/plain": [
       "rag_data_uploader.utils.base_mappings.ES7BaseMapping"
      ]
     },
     "execution_count": 12,
     "metadata": {},
     "output_type": "execute_result"
    }
   ],
   "source": [
    "# Class, which should NOT be passed to uploader methods without being instantiated\n",
    "mapping = ES7BaseMapping\n",
    "mapping"
   ]
  },
  {
   "cell_type": "code",
   "execution_count": null,
   "metadata": {},
   "outputs": [],
   "source": []
  }
 ],
 "metadata": {
  "kernelspec": {
   "display_name": "uploader-pydantic-env",
   "language": "python",
   "name": "python3"
  },
  "language_info": {
   "codemirror_mode": {
    "name": "ipython",
    "version": 3
   },
   "file_extension": ".py",
   "mimetype": "text/x-python",
   "name": "python",
   "nbconvert_exporter": "python",
   "pygments_lexer": "ipython3",
   "version": "3.11.5"
  }
 },
 "nbformat": 4,
 "nbformat_minor": 2
}
